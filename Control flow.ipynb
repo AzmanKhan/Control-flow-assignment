{
 "cells": [
  {
   "cell_type": "code",
   "execution_count": 2,
   "id": "938a4a6d-1abd-48a7-bc10-d2906f4d6afd",
   "metadata": {},
   "outputs": [
    {
     "name": "stdin",
     "output_type": "stream",
     "text": [
      "enter a number : -11\n"
     ]
    },
    {
     "name": "stdout",
     "output_type": "stream",
     "text": [
      "negative number \n"
     ]
    }
   ],
   "source": [
    "#1. Write a Python program to check if a given number is positive or negative.\n",
    "number = int(input(\"enter a number :\"))\n",
    "if number < 0 :\n",
    "    print (\"negative number \")\n",
    "else :\n",
    "    print (\"positive number \")"
   ]
  },
  {
   "cell_type": "code",
   "execution_count": 6,
   "id": "146f1739-07ed-4e51-aed1-22db9192e585",
   "metadata": {},
   "outputs": [
    {
     "name": "stdin",
     "output_type": "stream",
     "text": [
      "Enter your age  11\n"
     ]
    },
    {
     "name": "stdout",
     "output_type": "stream",
     "text": [
      "Not eligible for Voting\n"
     ]
    }
   ],
   "source": [
    "#2. Create a program that determines if a person is eligible to vote based on their age.\n",
    "averageAge = 18\n",
    "personAge = int (input(\"Enter your age \"))\n",
    "if personAge >= averageAge :\n",
    "    print(\"Eligible for Voting \")\n",
    "else:\n",
    "    print(\"Not eligible for Voting\")"
   ]
  },
  {
   "cell_type": "code",
   "execution_count": 11,
   "id": "8918498f-123c-455c-8100-319127953799",
   "metadata": {},
   "outputs": [
    {
     "name": "stdin",
     "output_type": "stream",
     "text": [
      "Enter the first number 11\n",
      "Enter the second number 15\n"
     ]
    },
    {
     "name": "stdout",
     "output_type": "stream",
     "text": [
      "Second number is greater\n"
     ]
    }
   ],
   "source": [
    "#3. Develop a program to find the maximum of two numbers using if-else statements.\n",
    "firstNum = int(input(\"Enter the first number\"))\n",
    "secondNum = int(input(\"Enter the second number\"))\n",
    "if firstNum > secondNum :\n",
    "    print(\"first number is maximum\")\n",
    "else :\n",
    "    print(\"Second number is greater\")"
   ]
  },
  {
   "cell_type": "code",
   "execution_count": 16,
   "id": "42d21faa-98fd-4daa-be78-5a6efc897921",
   "metadata": {},
   "outputs": [
    {
     "name": "stdin",
     "output_type": "stream",
     "text": [
      "Enter a year:  2024\n"
     ]
    },
    {
     "name": "stdout",
     "output_type": "stream",
     "text": [
      "2024 is a leap year.\n"
     ]
    }
   ],
   "source": [
    "#4. Write a Python script to classify a given year as a leap year or not.\n",
    "year = int(input(\"Enter a year: \"))\n",
    "\n",
    "leap_year = (year % 4 == 0 and (year % 100 != 0 or year % 400 == 0))\n",
    "\n",
    "if leap_year:\n",
    "    print(f\"{year} is a leap year.\")\n",
    "else:\n",
    "    print(f\"{year} is not a leap year.\")\n"
   ]
  },
  {
   "cell_type": "code",
   "execution_count": 23,
   "id": "e069d74b-3524-4c40-a003-1ea2a38509e6",
   "metadata": {},
   "outputs": [
    {
     "name": "stdin",
     "output_type": "stream",
     "text": [
      "enter a charecter  e\n"
     ]
    },
    {
     "name": "stdout",
     "output_type": "stream",
     "text": [
      "e  It's a vowel \n"
     ]
    }
   ],
   "source": [
    "#5. Create a program that checks whether a character is a vowel or a consonant.\n",
    "char = str(input(\"enter a charecter \"))\n",
    "vowel = \"aeiouAEIOU\"\n",
    "if char in vowel :\n",
    "    print (f\"{char}  It's a vowel \")\n",
    "else :\n",
    "    print (f\"{char} its a Consonent \")"
   ]
  },
  {
   "cell_type": "code",
   "execution_count": 27,
   "id": "f743744a-05ca-436f-84a7-82f34ccb3ddc",
   "metadata": {},
   "outputs": [
    {
     "name": "stdin",
     "output_type": "stream",
     "text": [
      "enter a number 88\n"
     ]
    },
    {
     "name": "stdout",
     "output_type": "stream",
     "text": [
      "88 is a Even number\n"
     ]
    }
   ],
   "source": [
    "#6. Implement a program to determine whether a given number is even or odd.\n",
    "number = int(input(\"enter a number\"))\n",
    "if number%2 !=0 :\n",
    "    print(f\"{number} is a odd number\")\n",
    "else :\n",
    "    print(f\"{number} is a Even number\")"
   ]
  },
  {
   "cell_type": "code",
   "execution_count": 30,
   "id": "3da4c9b1-7a0f-49d3-9b9a-7717019e23b1",
   "metadata": {},
   "outputs": [
    {
     "name": "stdin",
     "output_type": "stream",
     "text": [
      "Enter a number  -12\n"
     ]
    },
    {
     "name": "stdout",
     "output_type": "stream",
     "text": [
      "12\n"
     ]
    }
   ],
   "source": [
    "#7. Write a Python function to calculate the absolute value of a number without using the `abs()` function.\n",
    "def absalute(n):\n",
    "    if n < 0:\n",
    "        return -n\n",
    "    else :\n",
    "        return n\n",
    "number = int(input(\"Enter a number \"))\n",
    "num = absalute(number)\n",
    "print(num)"
   ]
  },
  {
   "cell_type": "code",
   "execution_count": 49,
   "id": "1cb4c81b-e2d4-4a8e-b6c1-3a0574692e9e",
   "metadata": {},
   "outputs": [
    {
     "name": "stdin",
     "output_type": "stream",
     "text": [
      "Enter first number  11\n",
      "Enter second number  23\n",
      "Enter third number  4\n"
     ]
    },
    {
     "name": "stdout",
     "output_type": "stream",
     "text": [
      "23 is greatest \n"
     ]
    }
   ],
   "source": [
    "#8. Develop a program that determines the largest of three given numbers using if-else statements.\n",
    "n1 = int(input(\"Enter first number \"))\n",
    "n2 = int(input(\"Enter second number \"))\n",
    "n3 = int(input(\"Enter third number \"))\n",
    "if n1>n2 and n1>n3 :\n",
    "    print(f\"{n1} is the greatest\")\n",
    "elif n2>n1 and n2>n3:\n",
    "    print(f\"{n2} is greatest \")\n",
    "else:\n",
    "    print(f\"{n3} is greatest\")"
   ]
  },
  {
   "cell_type": "code",
   "execution_count": 50,
   "id": "0a134350-66d8-4716-9b20-e74c6e9e2f7b",
   "metadata": {},
   "outputs": [
    {
     "name": "stdin",
     "output_type": "stream",
     "text": [
      "enter a string abba\n"
     ]
    },
    {
     "name": "stdout",
     "output_type": "stream",
     "text": [
      "'abba' is a palindrome.\n"
     ]
    }
   ],
   "source": [
    "# 9. Create a program that checks if a given string is a palindrome.\n",
    "def isPalindrome(num): \n",
    "    num = num.replace(\" \", \"\").lower()\n",
    "    return num == num[::-1]\n",
    "inputStr = input(\"enter a string\")\n",
    "if isPalindrome(inputStr):\n",
    "    print(f\"'{inputStr}' is a palindrome.\")\n",
    "else:\n",
    "     print(f\"'{inputStr}' is not a palindrome.\")\n"
   ]
  },
  {
   "cell_type": "code",
   "execution_count": 51,
   "id": "cb94d58e-26b4-4235-a7ea-0c65312965d6",
   "metadata": {},
   "outputs": [
    {
     "name": "stdin",
     "output_type": "stream",
     "text": [
      "Enter the student's score:  77\n"
     ]
    },
    {
     "name": "stdout",
     "output_type": "stream",
     "text": [
      "The student's grade is: C\n"
     ]
    }
   ],
   "source": [
    "#10. Write a Python program to calculate the grade based on a student's score.\n",
    "def calculate_grade(score):\n",
    "    if score >= 90:\n",
    "        return 'A'\n",
    "    elif score >= 80:\n",
    "        return 'B'\n",
    "    elif score >= 70:\n",
    "        return 'C'\n",
    "    elif score >= 60:\n",
    "        return 'D'\n",
    "    else:\n",
    "        return 'F'\n",
    "\n",
    "# Input the student's score\n",
    "score = float(input(\"Enter the student's score: \"))\n",
    "\n",
    "# Calculate the grade\n",
    "grade = calculate_grade(score)\n",
    "\n",
    "# Display the grade\n",
    "print(f\"The student's grade is: {grade}\")\n"
   ]
  },
  {
   "cell_type": "code",
   "execution_count": 2,
   "id": "635e64a8-7981-409d-b31d-5613977b6a7b",
   "metadata": {},
   "outputs": [
    {
     "name": "stdout",
     "output_type": "stream",
     "text": [
      "The largest number is 120\n"
     ]
    }
   ],
   "source": [
    "#11. Write a program to find the largest among three numbers using nested if-else statements.\n",
    "num1= 120\n",
    "num2 =29\n",
    "num3 = 84\n",
    "if num1 >= num2:\n",
    "    if num1 >= num3:\n",
    "        largest_number = num1\n",
    "    else:\n",
    "        largest_number = num3\n",
    "else:\n",
    "    if num2 >= num3:\n",
    "        largest_number = num2\n",
    "    else:\n",
    "        largest_number = num3\n",
    "print(\"The largest number is\",largest_number)\n",
    "    "
   ]
  },
  {
   "cell_type": "code",
   "execution_count": 10,
   "id": "ae79c3a9-5f71-4684-b609-ffafcf664e8a",
   "metadata": {},
   "outputs": [
    {
     "name": "stdout",
     "output_type": "stream",
     "text": [
      "Isosceles Triangle\n"
     ]
    }
   ],
   "source": [
    "#12 Implement a program to determine if a triangle is equilateral, isosceles, or scalene.\n",
    "side1 = 4\n",
    "side2  =3\n",
    "side3 = 4\n",
    "if side1 == side2 == side3 :\n",
    "    print(\"Equilateral Triangle\")\n",
    "elif side1 == side2 or side1 == side3 or side2 == side3 :\n",
    "    print (\"Isosceles Triangle\")\n",
    "else :\n",
    "    print(\"Scalene Triangle\")\n"
   ]
  },
  {
   "cell_type": "code",
   "execution_count": 18,
   "id": "3910a878-4546-4242-bf6a-fb4de7381ee1",
   "metadata": {},
   "outputs": [
    {
     "name": "stdin",
     "output_type": "stream",
     "text": [
      "Enter a year:  20000\n"
     ]
    },
    {
     "name": "stdout",
     "output_type": "stream",
     "text": [
      "20000 is a leap year.\n",
      "20000 is also a century year.\n"
     ]
    }
   ],
   "source": [
    "#13  Develop a program that checks if a year is a leap year and also if it is a century year.\n",
    "year = int(input(\"Enter a year: \"))\n",
    "\n",
    "if year % 4 == 0 and (year % 100 != 0 or year % 400 == 0):\n",
    "    print(f\"{year} is a leap year.\")\n",
    "    if year % 100 == 0:\n",
    "        print(f\"{year} is also a century year.\")\n",
    "    else:\n",
    "        print(f\"{year} is a leap year, but not a century year.\")\n",
    "else:\n",
    "    print(f\"{year} is neither a leap year nor a century year.\")\n",
    "    "
   ]
  },
  {
   "cell_type": "code",
   "execution_count": 34,
   "id": "d2334b3d-b271-44d7-9428-7f3da594ca60",
   "metadata": {},
   "outputs": [
    {
     "name": "stdin",
     "output_type": "stream",
     "text": [
      "enter the age : 14\n"
     ]
    },
    {
     "name": "stdout",
     "output_type": "stream",
     "text": [
      "14 Is a teenager \n"
     ]
    }
   ],
   "source": [
    "#15. Create a program to check if a person is a teenager (between 13 and 19 years old).\n",
    "age = int(input(\"enter the age :\"))\n",
    "if age>=13 :\n",
    "    if age<=19 :\n",
    "        print (f\"{age} Is a teenager \")\n",
    "    else :\n",
    "        print(f\"{age} Not a teenager\")\n",
    "else :\n",
    "    print(f\"{age} Not a teenager\")"
   ]
  },
  {
   "cell_type": "code",
   "execution_count": 36,
   "id": "cce2f828-e49a-4a01-b743-2258d0b99060",
   "metadata": {},
   "outputs": [
    {
     "name": "stdin",
     "output_type": "stream",
     "text": [
      "Enter the angle measure in degrees:  90\n"
     ]
    },
    {
     "name": "stdout",
     "output_type": "stream",
     "text": [
      "The angle is a right angle.\n"
     ]
    }
   ],
   "source": [
    "#16. Develop a program that determines the type of angle based on its measure (acute, obtuse, or right).\n",
    "angle_measure = float(input(\"Enter the angle measure in degrees: \"))\n",
    "\n",
    "if angle_measure > 0:\n",
    "    if angle_measure < 90:\n",
    "        print(\"The angle is acute.\")\n",
    "    elif angle_measure == 90:\n",
    "        print(\"The angle is a right angle.\")\n",
    "    elif angle_measure < 180:\n",
    "        print(\"The angle is obtuse.\")\n",
    "    else:\n",
    "        print(\"The angle is a straight angle or a reflex angle.\")\n",
    "else:\n",
    "    print(\"Invalid angle measure. Please enter a positive value.\")\n"
   ]
  },
  {
   "cell_type": "code",
   "execution_count": 37,
   "id": "a388ec53-956c-438f-90c6-9e95f3879a1c",
   "metadata": {},
   "outputs": [
    {
     "name": "stdin",
     "output_type": "stream",
     "text": [
      "Enter the coefficient a:  32\n",
      "Enter the coefficient b:  12\n",
      "Enter the coefficient c:  11\n"
     ]
    },
    {
     "name": "stdout",
     "output_type": "stream",
     "text": [
      "The roots are complex: (-0.1875+0.5555121510822243j) and (-0.1875-0.5555121510822243j)\n"
     ]
    }
   ],
   "source": [
    "#17. Write a Python program to calculate the roots of a quadratic equation.\n",
    "# Get coefficients input from the user\n",
    "a = float(input(\"Enter the coefficient a: \"))\n",
    "b = float(input(\"Enter the coefficient b: \"))\n",
    "c = float(input(\"Enter the coefficient c: \"))\n",
    "\n",
    "# Calculate the discriminant\n",
    "discriminant = b**2 - 4*a*c  # b^2 -4(a*c)\n",
    "\n",
    "# Check the nature of roots \n",
    "if discriminant > 0:\n",
    "    # Two real and distinct roots\n",
    "    root1 = (-b + (discriminant)**0.5) / (2*a) # 0.5 for under  root \n",
    "    root2 = (-b - (discriminant)**0.5) / (2*a)\n",
    "    print(f\"The roots are real and distinct: {root1} and {root2}\")\n",
    "else:\n",
    "    if discriminant == 0:\n",
    "        # One real and identical root\n",
    "        root = -b / (2*a)\n",
    "        print(f\"The root is real and identical: {root}\")\n",
    "    else:\n",
    "        # Complex roots\n",
    "        real_part = -b / (2*a)\n",
    "        imaginary_part = ((abs(discriminant))**0.5) / (2*a)\n",
    "        root1 = complex(real_part, imaginary_part)\n",
    "        root2 = complex(real_part, -imaginary_part)\n",
    "        print(f\"The roots are complex: {root1} and {root2}\")\n"
   ]
  },
  {
   "cell_type": "code",
   "execution_count": 38,
   "id": "f3b041df-5a0f-46ce-b075-fe27a17e5d2f",
   "metadata": {},
   "outputs": [
    {
     "name": "stdin",
     "output_type": "stream",
     "text": [
      "enter the day number : 5\n"
     ]
    },
    {
     "name": "stdout",
     "output_type": "stream",
     "text": [
      "The day corresponding to 5 is Friday.\n"
     ]
    }
   ],
   "source": [
    "'''#18. Implement a program to determine the day of the week based on a user-provided number (1 for Monday, 2\n",
    "for Tuesday, etc.).'''\n",
    "day_number = int(input(\"enter the day number :\"))\n",
    "if day_number == 1:\n",
    "    day_name = \"Monday\"\n",
    "else:\n",
    "    if day_number == 2:\n",
    "        day_name = \"Tuesday\"\n",
    "    else:\n",
    "        if day_number == 3:\n",
    "            day_name = \"Wednesday\"\n",
    "        else:\n",
    "            if day_number == 4:\n",
    "                day_name = \"Thursday\"\n",
    "            else:\n",
    "                if day_number == 5:\n",
    "                    day_name = \"Friday\"\n",
    "                else:\n",
    "                    if day_number == 6:\n",
    "                        day_name = \"Saturday\"\n",
    "                    else:\n",
    "                        if day_number == 7:\n",
    "                            day_name = \"Sunday\"\n",
    "                        else:\n",
    "                            day_name = \"Invalid day number\"\n",
    "\n",
    "\n",
    "print(f\"The day corresponding to {day_number} is {day_name}.\") \n"
   ]
  },
  {
   "cell_type": "code",
   "execution_count": 42,
   "id": "a2b23a27-ed15-4d07-9392-e4811e5614b6",
   "metadata": {},
   "outputs": [
    {
     "name": "stdin",
     "output_type": "stream",
     "text": [
      "Enter a year:  2400\n"
     ]
    },
    {
     "name": "stdout",
     "output_type": "stream",
     "text": [
      "2400 is a leap year and evenly divisible by 400.\n"
     ]
    }
   ],
   "source": [
    "#19. Create a program that determines if a year is a leap year and also if it is evenly divisible by 400.\n",
    "year = int(input(\"Enter a year: \"))\n",
    "\n",
    "if year % 4 == 0:\n",
    "    if year % 100 == 0:\n",
    "        if year % 400 == 0:\n",
    "            print(f\"{year} is a leap year and evenly divisible by 400.\")\n",
    "        else:\n",
    "            print(f\"{year} is not a leap year or not evenly divisible by 400.\")\n",
    "    else:\n",
    "        print(f\"{year} is a leap year.\")\n",
    "else:\n",
    "    print(f\"{year} is not a leap year or not evenly divisible by 400.\")\n"
   ]
  },
  {
   "cell_type": "code",
   "execution_count": 44,
   "id": "918b4bc3-53fb-4a56-a1f4-ca5953978817",
   "metadata": {},
   "outputs": [
    {
     "name": "stdin",
     "output_type": "stream",
     "text": [
      "Enter a number:  165\n"
     ]
    },
    {
     "name": "stdout",
     "output_type": "stream",
     "text": [
      "165 is not a prime number.\n"
     ]
    }
   ],
   "source": [
    "#20. Develop a program that checks if a given number is prime or not using nested if-else statements.\n",
    "num = int(input(\"Enter a number: \"))\n",
    "\n",
    "if num > 1:\n",
    "    is_prime = True\n",
    "    for i in range(2, int(num**0.5) + 1):\n",
    "        if num % i == 0:\n",
    "            is_prime = False\n",
    "            break\n",
    "\n",
    "    if is_prime:\n",
    "        print(f\"{num} is a prime number.\")\n",
    "    else:\n",
    "        print(f\"{num} is not a prime number.\")\n",
    "else:\n",
    "    print(f\"{num} is not a prime number.\")\n"
   ]
  },
  {
   "cell_type": "code",
   "execution_count": 13,
   "id": "33bc9cec-e5e8-4956-9826-c65b17f6868d",
   "metadata": {},
   "outputs": [
    {
     "name": "stdin",
     "output_type": "stream",
     "text": [
      "enter the score: 91\n"
     ]
    },
    {
     "name": "stdout",
     "output_type": "stream",
     "text": [
      "You got A grade \n"
     ]
    }
   ],
   "source": [
    "#21. Write a Python program to assign grades based on different ranges of scores using elif statements.\n",
    "score = int(input(\"enter the score:\"))\n",
    "if score >=90:\n",
    "    print(\"You got A grade \")\n",
    "elif score >= 70 and score < 90:\n",
    "    print(\"You got B grade\")\n",
    "elif score >= 60 and score < 70:\n",
    "    print (\"You go C grade\")\n",
    "elif score >= 50 and score < 60:\n",
    "    print(\"You got D grade \")\n",
    "elif score >= 35 and score < 50:\n",
    "    print(\"You got E grade \")\n",
    "elif score <35 :\n",
    "    print(\"You got F grade \")\n",
    "    "
   ]
  },
  {
   "cell_type": "code",
   "execution_count": 19,
   "id": "c0f20b73-7502-4f7f-ac76-9da86e266925",
   "metadata": {},
   "outputs": [
    {
     "name": "stdin",
     "output_type": "stream",
     "text": [
      "Enter an Angle 50\n"
     ]
    },
    {
     "name": "stdout",
     "output_type": "stream",
     "text": [
      "The angle is acute Triangle.\n"
     ]
    }
   ],
   "source": [
    "#22. Implement a program to determine the type of a triangle based on its angles.\n",
    "angle = int(input (\"Enter an Angle\"))\n",
    "if angle < 90:\n",
    "    print(\"The angle is acute Triangle.\")\n",
    "elif angle == 90:\n",
    "    print(\"The angle is a right angle Triangle.\")\n",
    "elif angle < 180:\n",
    "    print(\"The angle is obtuse Triangle .\")"
   ]
  },
  {
   "cell_type": "code",
   "execution_count": 35,
   "id": "fb161512-a111-4d33-8d89-28c630ba4488",
   "metadata": {},
   "outputs": [
    {
     "name": "stdin",
     "output_type": "stream",
     "text": [
      "Enter your BMI:  29\n"
     ]
    },
    {
     "name": "stdout",
     "output_type": "stream",
     "text": [
      "Overweight\n"
     ]
    }
   ],
   "source": [
    "'''#23. Develop a program to categorize a given person's BMI into underweight, normal, overweight, or obese using\n",
    "elif statements.'''\n",
    "bmi = float(input(\"Enter your BMI: \"))\n",
    "if bmi < 18.5:\n",
    "    print(\"Underweight\")\n",
    "elif 18.5 <= bmi < 25:\n",
    "    print(\"Normal weight\")\n",
    "elif 25 <= bmi < 30:\n",
    "    print(\"Overweight\")\n",
    "else:\n",
    "    print(\"Obese\")\n",
    "\n"
   ]
  },
  {
   "cell_type": "code",
   "execution_count": 38,
   "id": "5663751a-c532-4d08-840d-e885937f4167",
   "metadata": {},
   "outputs": [
    {
     "name": "stdin",
     "output_type": "stream",
     "text": [
      "Enter a number  0\n"
     ]
    },
    {
     "name": "stdout",
     "output_type": "stream",
     "text": [
      "Zero\n"
     ]
    }
   ],
   "source": [
    "'''#24. Create a program that determines whether a given number is positive, negative, or zero using elif\n",
    "statements. '''\n",
    "number = int(input(\"Enter a number \"))\n",
    "if number < 0:\n",
    "    print(\"Negative number \")\n",
    "elif number == 0:\n",
    "    print (\"Zero\")\n",
    "elif number > 0 :\n",
    "    print(\"Positive number\")\n",
    "else :\n",
    "    print(\"invalid\")"
   ]
  },
  {
   "cell_type": "code",
   "execution_count": 57,
   "id": "c9eefc5e-b2c2-4fe5-8227-f2e3651085a4",
   "metadata": {},
   "outputs": [
    {
     "name": "stdin",
     "output_type": "stream",
     "text": [
      "Enter a character:  241c\n"
     ]
    },
    {
     "name": "stdout",
     "output_type": "stream",
     "text": [
      "The character '2' is a Special character.\n"
     ]
    }
   ],
   "source": [
    "'''#25. Write a Python script to determine the type of a character (uppercase, lowercase, or special) using elif\n",
    "statements.'''\n",
    "def determine_char_type(char):\n",
    "    if char.islower():\n",
    "        return \"Lowercase\"\n",
    "    elif char.isupper():\n",
    "        return \"Uppercase\"\n",
    "    else:\n",
    "        return \"Special character\"\n",
    "try:\n",
    "    char = input(\"Enter a character: \")[0]  \n",
    "    char_type = determine_char_type(char)\n",
    "    print(f\"The character '{char}' is a {char_type}.\")\n",
    "except IndexError:\n",
    "    print(\"Please enter a valid character.\")\n"
   ]
  },
  {
   "cell_type": "code",
   "execution_count": 58,
   "id": "8e584945-4b9d-454e-819c-992767eedc6b",
   "metadata": {},
   "outputs": [
    {
     "name": "stdin",
     "output_type": "stream",
     "text": [
      "Enter the purchase amount:  5884\n"
     ]
    },
    {
     "name": "stdout",
     "output_type": "stream",
     "text": [
      "The discounted price for a purchase amount of $5884.00 is $5001.40.\n"
     ]
    }
   ],
   "source": [
    "'''#26. Implement a program to calculate the discounted price based on different purchase amounts using elif\n",
    "statements.'''\n",
    "def calculate_discounted_price(purchase_amount):\n",
    "    if purchase_amount < 100:\n",
    "        discount_rate = 0\n",
    "    elif 100 <= purchase_amount < 500:\n",
    "        discount_rate = 0.05\n",
    "    elif 500 <= purchase_amount < 1000:\n",
    "        discount_rate = 0.1\n",
    "    else:\n",
    "        discount_rate = 0.15\n",
    "\n",
    "    discounted_price = purchase_amount - (purchase_amount * discount_rate)\n",
    "    return discounted_price\n",
    "try:\n",
    "    purchase_amount = float(input(\"Enter the purchase amount: \"))\n",
    "    if purchase_amount < 0:\n",
    "        print(\"Please enter a non-negative value for the purchase amount.\")\n",
    "    else:\n",
    "        discounted_price = calculate_discounted_price(purchase_amount)\n",
    "        print(f\"The discounted price for a purchase amount of ${purchase_amount:.2f} is ${discounted_price:.2f}.\")\n",
    "except ValueError:\n",
    "    print(\"Please enter a valid numerical value for the purchase amount.\")\n"
   ]
  },
  {
   "cell_type": "code",
   "execution_count": 60,
   "id": "7bc6f13a-674c-47f4-9208-de71445c7ba3",
   "metadata": {},
   "outputs": [
    {
     "name": "stdin",
     "output_type": "stream",
     "text": [
      "Enter the number of units consumed:  24\n"
     ]
    },
    {
     "name": "stdout",
     "output_type": "stream",
     "text": [
      "The electricity bill for 24.0 units is $12.00.\n"
     ]
    }
   ],
   "source": [
    "'''27. Develop a program to calculate the electricity bill based on different consumption slabs using elif\n",
    "statements.'''\n",
    "def calculate_electricity_bill(units_consumed):\n",
    "    if units_consumed <= 50:\n",
    "        rate = 0.50  # rate per unit for the first 50 units\n",
    "    elif 50 < units_consumed <= 150:\n",
    "        rate = 0.75  # rate per unit for the next 100 units\n",
    "    elif 150 < units_consumed <= 300:\n",
    "        rate = 1.20  # rate per unit for the next 150 units\n",
    "    else:\n",
    "        rate = 1.50  # rate per unit for units above 300\n",
    "\n",
    "    total_bill = units_consumed * rate\n",
    "    return total_bill\n",
    "\n",
    "# Get units consumed input from the user\n",
    "\n",
    "units_consumed = float(input(\"Enter the number of units consumed: \"))\n",
    "if units_consumed < 0:\n",
    "    print(\"Please enter a non-negative value for units consumed.\")\n",
    "else:\n",
    "    bill_amount = calculate_electricity_bill(units_consumed)\n",
    "    print(f\"The electricity bill for {units_consumed} units is ${bill_amount:.2f}.\")\n"
   ]
  },
  {
   "cell_type": "code",
   "execution_count": 61,
   "id": "e44fed00-b81c-4260-a6af-95877e4bcea8",
   "metadata": {},
   "outputs": [
    {
     "name": "stdin",
     "output_type": "stream",
     "text": [
      "Enter the length of side 1:  49\n",
      "Enter the length of side 2:  34\n",
      "Enter the length of side 3:  33\n",
      "Enter the length of side 4:  33\n",
      "Enter the measure of angle 1:  24\n",
      "Enter the measure of angle 2:  90\n",
      "Enter the measure of angle 3:  60\n",
      "Enter the measure of angle 4:  120\n"
     ]
    },
    {
     "name": "stdout",
     "output_type": "stream",
     "text": [
      "The given quadrilateral is a Quadrilateral.\n"
     ]
    }
   ],
   "source": [
    "'''28. Create a program to determine the type of quadrilateral based on its angles and sides using elif\n",
    "statements.'''\n",
    "def determine_quadrilateral_type(sides, angles):\n",
    "    if all(angle == 90 for angle in angles) and all(side1 == side2 == side3 == side4 for side1, side2, side3, side4 in zip(sides, sides[1:], sides[2:], sides[3:])):\n",
    "        return \"Square\"\n",
    "    elif all(angle == 90 for angle in angles):\n",
    "        return \"Rectangle\"\n",
    "    elif sides[0] == sides[2] and sides[1] == sides[3]:\n",
    "        return \"Parallelogram\"\n",
    "    elif sides[0] == sides[2] and sides[1] == sides[3] and sides[0] != sides[1]:\n",
    "        return \"Rhombus\"\n",
    "    else:\n",
    "        return \"Quadrilateral\"\n",
    " \n",
    "try:\n",
    "    sides = [float(input(f\"Enter the length of side {i + 1}: \")) for i in range(4)]\n",
    "    angles = [float(input(f\"Enter the measure of angle {i + 1}: \")) for i in range(4)]\n",
    "    \n",
    "    quadrilateral_type = determine_quadrilateral_type(sides, angles)\n",
    "    print(f\"The given quadrilateral is a {quadrilateral_type}.\")\n",
    "except ValueError:\n",
    "    print(\"Please enter valid numerical values for sides and angles.\")\n"
   ]
  },
  {
   "cell_type": "code",
   "execution_count": 63,
   "id": "ef13d908-ec02-4d0d-9bc6-3875656f8ffa",
   "metadata": {},
   "outputs": [
    {
     "name": "stdin",
     "output_type": "stream",
     "text": [
      "Enter the month:  january\n"
     ]
    },
    {
     "name": "stdout",
     "output_type": "stream",
     "text": [
      "The season for January is Winter.\n"
     ]
    }
   ],
   "source": [
    "#29. Write a Python script to determine the season based on a user-provided month using elif statements.\n",
    "def determine_season(month):\n",
    "    if month.lower() in [\"december\", \"january\", \"february\"]:\n",
    "        return \"Winter\"\n",
    "    elif month.lower() in [\"march\", \"april\", \"may\"]:\n",
    "        return \"Spring\"\n",
    "    elif month.lower() in [\"june\", \"july\", \"august\"]:\n",
    "        return \"Summer\"\n",
    "    elif month.lower() in [\"september\", \"october\", \"november\"]:\n",
    "        return \"Autumn\"\n",
    "    else:\n",
    "        return \"Invalid month\"\n",
    "\n",
    "user_month = input(\"Enter the month: \")\n",
    "season = determine_season(user_month)\n",
    "if season != \"Invalid month\":\n",
    "    print(f\"The season for {user_month.capitalize()} is {season}.\")\n",
    "else:\n",
    "    print(\"Please enter a valid month.\")\n"
   ]
  },
  {
   "cell_type": "code",
   "execution_count": 64,
   "id": "e82b207a-d39a-4113-b259-1ffbe4e14c0d",
   "metadata": {},
   "outputs": [
    {
     "name": "stdin",
     "output_type": "stream",
     "text": [
      "Enter the month:  january\n",
      "Enter the year:  20024\n"
     ]
    },
    {
     "name": "stdout",
     "output_type": "stream",
     "text": [
      "The year 20024 is a Leap year, and January has 31 days.\n"
     ]
    }
   ],
   "source": [
    "'''#30. Implement a program to determine the type of a year (leap or common) and month (30 or 31 days) using\n",
    "elif statements.''' \n",
    "def is_leap_year(year):\n",
    "    return (year % 4 == 0 and year % 100 != 0) or (year % 400 == 0)\n",
    "\n",
    "def determine_days_in_month(month, year):\n",
    "    if month.lower() in [\"january\", \"march\", \"may\", \"july\", \"august\", \"october\", \"december\"]:\n",
    "        return 31\n",
    "    elif month.lower() in [\"april\", \"june\", \"september\", \"november\"]:\n",
    "        return 30\n",
    "    elif month.lower() == \"february\":\n",
    "        return 29 if is_leap_year(year) else 28\n",
    "    else:\n",
    "        return None\n",
    "user_month = input(\"Enter the month: \")\n",
    "user_year = int(input(\"Enter the year: \"))\n",
    "\n",
    "if user_year > 0:\n",
    "    days_in_month = determine_days_in_month(user_month, user_year)\n",
    "    if days_in_month is not None:\n",
    "        leap_year_type = \"Leap\" if is_leap_year(user_year) else \"Common\"\n",
    "        print(f\"The year {user_year} is a {leap_year_type} year, and {user_month.capitalize()} has {days_in_month} days.\")"
   ]
  },
  {
   "cell_type": "code",
   "execution_count": 65,
   "id": "e95df36f-0a22-4ee6-a488-8d5aadfc76f9",
   "metadata": {},
   "outputs": [
    {
     "name": "stdin",
     "output_type": "stream",
     "text": [
      "Enter a number  495\n"
     ]
    },
    {
     "name": "stdout",
     "output_type": "stream",
     "text": [
      "Positive number\n"
     ]
    }
   ],
   "source": [
    "#1. Write a Python program that checks if a given number is positive, negative, or zero.\n",
    "number = int(input(\"Enter a number \"))\n",
    "if number < 0:\n",
    "    print(\"Negative number \")\n",
    "elif number == 0:\n",
    "    print (\"Zero\")\n",
    "elif number > 0 :\n",
    "    print(\"Positive number\")\n",
    "else :\n",
    "    print(\"invalid\") "
   ]
  },
  {
   "cell_type": "code",
   "execution_count": 66,
   "id": "7023d294-281a-4f53-ab2c-66b2bee8fd79",
   "metadata": {},
   "outputs": [
    {
     "name": "stdin",
     "output_type": "stream",
     "text": [
      "Enter your age  8\n"
     ]
    },
    {
     "name": "stdout",
     "output_type": "stream",
     "text": [
      "Not eligible for Voting\n"
     ]
    }
   ],
   "source": [
    "#2. Create a program to determine if a person is eligible to vote based on their age.\n",
    "averageAge = 18\n",
    "personAge = int (input(\"Enter your age \"))\n",
    "if personAge >= averageAge :\n",
    "    print(\"Eligible for Voting \")\n",
    "else:\n",
    "    print(\"Not eligible for Voting\")"
   ]
  },
  {
   "cell_type": "code",
   "execution_count": 2,
   "id": "cfc2fc78-71c2-4b91-a59a-b28ce4d49423",
   "metadata": {},
   "outputs": [
    {
     "name": "stdout",
     "output_type": "stream",
     "text": [
      "11 is greater\n"
     ]
    }
   ],
   "source": [
    "#3. Write a program to find the maximum of two given numbers using conditional statements.\n",
    "num1 = 10\n",
    "num2 = 11\n",
    "if num1>num2 :\n",
    "    print(num1, \"is greater\")\n",
    "else:\n",
    "    print(num2 ,\"is greater\")"
   ]
  },
  {
   "cell_type": "code",
   "execution_count": 3,
   "id": "aea71959-281c-40da-80b1-4ceabaf57d42",
   "metadata": {},
   "outputs": [
    {
     "name": "stdin",
     "output_type": "stream",
     "text": [
      "enter the score: 67\n"
     ]
    },
    {
     "name": "stdout",
     "output_type": "stream",
     "text": [
      "You go C grade\n"
     ]
    }
   ],
   "source": [
    "#4. Develop a program that calculates the grade of a student based on their exam score.\n",
    "score = int(input(\"enter the score:\"))\n",
    "if score >=90:\n",
    "    print(\"You got A grade \")\n",
    "elif score >= 70 and score < 90:\n",
    "    print(\"You got B grade\")\n",
    "elif score >= 60 and score < 70:\n",
    "    print (\"You go C grade\")\n",
    "elif score >= 50 and score < 60:\n",
    "    print(\"You got D grade \")\n",
    "elif score >= 35 and score < 50:\n",
    "    print(\"You got E grade \")\n",
    "elif score <35 :\n",
    "    print(\"You got F grade \")\n",
    "    \n",
    "    "
   ]
  },
  {
   "cell_type": "code",
   "execution_count": 7,
   "id": "909107e1-a66f-4266-bef9-53ff1b61f287",
   "metadata": {},
   "outputs": [
    {
     "name": "stdin",
     "output_type": "stream",
     "text": [
      "Enter a year:  2024\n"
     ]
    },
    {
     "name": "stdout",
     "output_type": "stream",
     "text": [
      "2024 is a leap year.\n"
     ]
    }
   ],
   "source": [
    "#5. Create a program that checks if a year is a leap year or not.\n",
    "year = int(input(\"Enter a year: \"))\n",
    "leap_year = (year % 4 ==0 and (year %100 !=0 or year %400 ==0))\n",
    "if leap_year:\n",
    "    print(f\"{year} is a leap year.\")\n",
    "else:\n",
    "    print(f\"{year} is not a leap year.\")\n"
   ]
  },
  {
   "cell_type": "code",
   "execution_count": 10,
   "id": "484a9189-e7d5-4089-9ff3-3e234968ed00",
   "metadata": {},
   "outputs": [
    {
     "name": "stdin",
     "output_type": "stream",
     "text": [
      "enter 1st side 12\n",
      "enter 2st side 12\n",
      "enter 3st side 12\n"
     ]
    },
    {
     "name": "stdout",
     "output_type": "stream",
     "text": [
      "Equilateral Triangle\n"
     ]
    }
   ],
   "source": [
    "#6. Write a program to classify a triangle based on its sides' lengths.\n",
    "side1 = int(input(\"enter 1st side\"))\n",
    "side2 = int(input(\"enter 2st side\"))\n",
    "side3 = int(input(\"enter 3st side\"))\n",
    "if side1 == side2 == side3 :\n",
    "    print(\"Equilateral Triangle\")\n",
    "elif side1 == side2 or side1 == side3 or side2 == side3 :\n",
    "    print (\"Isosceles Triangle\")\n",
    "else :\n",
    "    print(\"Scalene Triangle\")\n"
   ]
  },
  {
   "cell_type": "code",
   "execution_count": 11,
   "id": "ce7dac35-5a17-49e5-b488-c234419e5bea",
   "metadata": {},
   "outputs": [
    {
     "name": "stdout",
     "output_type": "stream",
     "text": [
      "The largest number is 120\n"
     ]
    }
   ],
   "source": [
    "#7. Build a program that determines the largest of three given numbers.\n",
    "num1= 120\n",
    "num2 =29\n",
    "num3 = 84\n",
    "if num1 >= num2:\n",
    "    if num1 >= num3:\n",
    "        largest_number = num1\n",
    "    else:\n",
    "        largest_number = num3\n",
    "else:\n",
    "    if num2 >= num3:\n",
    "        largest_number = num2\n",
    "    else:\n",
    "        largest_number = num3\n",
    "print(\"The largest number is\",largest_number)\n",
    "    "
   ]
  },
  {
   "cell_type": "code",
   "execution_count": 13,
   "id": "d898f7fc-782b-414f-bd29-5e2292d2f5f4",
   "metadata": {},
   "outputs": [
    {
     "name": "stdin",
     "output_type": "stream",
     "text": [
      "enter a charecter  e\n"
     ]
    },
    {
     "name": "stdout",
     "output_type": "stream",
     "text": [
      "e  It's a vowel \n"
     ]
    }
   ],
   "source": [
    "#8. Develop a program that checks whether a character is a vowel or a consonant.\n",
    "char = str(input(\"enter a charecter \"))\n",
    "vowel = \"aeiouAEIOU\"\n",
    "if char in vowel :\n",
    "    print (f\"{char}  It's a vowel \")\n",
    "else :\n",
    "    print (f\"{char} its a Consonent \")"
   ]
  },
  {
   "cell_type": "code",
   "execution_count": 14,
   "id": "aebcf604-bca5-4da9-bb53-3080ab8529dd",
   "metadata": {},
   "outputs": [
    {
     "name": "stdin",
     "output_type": "stream",
     "text": [
      "Enter the purchase amount:  20300\n"
     ]
    },
    {
     "name": "stdout",
     "output_type": "stream",
     "text": [
      "The discounted price for a purchase amount of $20300.00 is $17255.00.\n"
     ]
    }
   ],
   "source": [
    "#9. Create a program to calculate the total cost of a shopping cart based on discounts.\n",
    "def calculate_discounted_price(purchase_amount):\n",
    "    if purchase_amount < 100:\n",
    "        discount_rate = 0\n",
    "    elif 100 <= purchase_amount < 500:\n",
    "        discount_rate = 0.05\n",
    "    elif 500 <= purchase_amount < 1000:\n",
    "        discount_rate = 0.1\n",
    "    else:\n",
    "        discount_rate = 0.15\n",
    "\n",
    "    discounted_price = purchase_amount - (purchase_amount * discount_rate)\n",
    "    return discounted_price\n",
    "try:\n",
    "    purchase_amount = float(input(\"Enter the purchase amount: \"))\n",
    "    if purchase_amount < 0:\n",
    "        print(\"Please enter a non-negative value for the purchase amount.\")\n",
    "    else:\n",
    "        discounted_price = calculate_discounted_price(purchase_amount)\n",
    "        print(f\"The discounted price for a purchase amount of ${purchase_amount:.2f} is ${discounted_price:.2f}.\")\n",
    "except ValueError:\n",
    "    print(\"Please enter a valid numerical value for the purchase amount.\")\n"
   ]
  },
  {
   "cell_type": "code",
   "execution_count": 16,
   "id": "3f848a40-e4a3-4c15-97b5-f6fe33ff0e4d",
   "metadata": {},
   "outputs": [
    {
     "name": "stdin",
     "output_type": "stream",
     "text": [
      "Enter a number 11\n"
     ]
    },
    {
     "name": "stdout",
     "output_type": "stream",
     "text": [
      "Number is odd\n"
     ]
    }
   ],
   "source": [
    "#10. Write a program that checks if a given number is even or odd.\n",
    "num = int(input(\"Enter a number\"))\n",
    "if num%2 == 0:\n",
    "    print(\"Number is even\")\n",
    "else :\n",
    "    print(\"Number is odd\")"
   ]
  },
  {
   "cell_type": "code",
   "execution_count": 18,
   "id": "cb4d799c-daf8-483c-af44-2438828fff04",
   "metadata": {},
   "outputs": [
    {
     "name": "stdin",
     "output_type": "stream",
     "text": [
      "Enter the coefficient a:  12\n",
      "Enter the coefficient b:  12\n",
      "Enter the coefficient c:  12\n"
     ]
    },
    {
     "name": "stdout",
     "output_type": "stream",
     "text": [
      "The roots are complex: (-0.5+0.8660254037844387j) and (-0.5-0.8660254037844387j)\n"
     ]
    }
   ],
   "source": [
    "#11. Write a program that calculates the roots of a quadratic equation .\n",
    "a = float(input(\"Enter the coefficient a: \"))\n",
    "b = float(input(\"Enter the coefficient b: \"))\n",
    "c = float(input(\"Enter the coefficient c: \"))\n",
    "\n",
    "# Calculate the discriminant\n",
    "discriminant = b**2 - 4*a*c  # b^2 -4(a*c)\n",
    "\n",
    "# Check the nature of roots \n",
    "if discriminant > 0:\n",
    "    # Two real and distinct roots\n",
    "    root1 = (-b + (discriminant)**0.5) / (2*a) # 0.5 for under  root \n",
    "    root2 = (-b - (discriminant)**0.5) / (2*a)\n",
    "    print(f\"The roots are real and distinct: {root1} and {root2}\")\n",
    "else:\n",
    "    if discriminant == 0:\n",
    "        # One real and identical root\n",
    "        root = -b / (2*a)\n",
    "        print(f\"The root is real and identical: {root}\")\n",
    "    else:\n",
    "        # Complex roots\n",
    "        real_part = -b / (2*a)\n",
    "        imaginary_part = ((abs(discriminant))**0.5) / (2*a)\n",
    "        root1 = complex(real_part, imaginary_part)\n",
    "        root2 = complex(real_part, -imaginary_part)\n",
    "        print(f\"The roots are complex: {root1} and {root2}\")\n",
    "\n",
    "        "
   ]
  },
  {
   "cell_type": "code",
   "execution_count": 19,
   "id": "526b2c97-5cb7-4b09-b656-0d31bfb14cbf",
   "metadata": {},
   "outputs": [
    {
     "name": "stdin",
     "output_type": "stream",
     "text": [
      "enter the day number : 3\n"
     ]
    },
    {
     "name": "stdout",
     "output_type": "stream",
     "text": [
      "The day corresponding to 3 is Wednesday.\n"
     ]
    }
   ],
   "source": [
    "#12. Create a program that determines the day of the week based on the day number (1-7).\n",
    "day_number = int(input(\"enter the day number :\"))\n",
    "if day_number == 1:\n",
    "    day_name = \"Monday\"\n",
    "else:\n",
    "    if day_number == 2:\n",
    "        day_name = \"Tuesday\"\n",
    "    else:\n",
    "        if day_number == 3:\n",
    "            day_name = \"Wednesday\"\n",
    "        else:\n",
    "            if day_number == 4:\n",
    "                day_name = \"Thursday\"\n",
    "            else:\n",
    "                if day_number == 5:\n",
    "                    day_name = \"Friday\"\n",
    "                else:\n",
    "                    if day_number == 6:\n",
    "                        day_name = \"Saturday\"\n",
    "                    else:\n",
    "                        if day_number == 7:\n",
    "                            day_name = \"Sunday\"\n",
    "                        else:\n",
    "                            day_name = \"Invalid day number\"\n",
    "\n",
    "\n",
    "print(f\"The day corresponding to {day_number} is {day_name}.\") "
   ]
  },
  {
   "cell_type": "code",
   "execution_count": 24,
   "id": "845b8c85-519e-40ec-b00d-57d2aaaa6a54",
   "metadata": {},
   "outputs": [
    {
     "name": "stdin",
     "output_type": "stream",
     "text": [
      "Enter a number :  5\n"
     ]
    },
    {
     "name": "stdout",
     "output_type": "stream",
     "text": [
      "The factorial of 5 is: 120\n"
     ]
    }
   ],
   "source": [
    "#13. Develop a program that calculates the factorial of a given number using recursion.\n",
    "def factorial(n):\n",
    "    if n == 0 or n == 1:\n",
    "        return 1\n",
    "    else:\n",
    "        return n * factorial(n - 1)\n",
    "num = int(input(\"Enter a number : \"))\n",
    "\n",
    "\n",
    "result = factorial(num)\n",
    "print(f\"The factorial of {num} is: {result}\")\n"
   ]
  },
  {
   "cell_type": "code",
   "execution_count": 25,
   "id": "4055a213-e818-42da-a12b-6db52fb5b895",
   "metadata": {},
   "outputs": [
    {
     "name": "stdout",
     "output_type": "stream",
     "text": [
      "The largest number is 120\n"
     ]
    }
   ],
   "source": [
    "#14. Write a program to find the largest among three numbers without using the `max()` function.\n",
    "num1= 120\n",
    "num2 =29\n",
    "num3 = 84\n",
    "if num1 >= num2:\n",
    "    if num1 >= num3:\n",
    "        largest_number = num1\n",
    "    else:\n",
    "        largest_number = num3\n",
    "else:\n",
    "    if num2 >= num3:\n",
    "        largest_number = num2\n",
    "    else:\n",
    "        largest_number = num3\n",
    "print(\"The largest number is\",largest_number)\n",
    "    "
   ]
  },
  {
   "cell_type": "code",
   "execution_count": null,
   "id": "37424745-1bc5-42f3-8f89-3cac2e30b292",
   "metadata": {},
   "outputs": [
    {
     "name": "stdout",
     "output_type": "stream",
     "text": [
      "\n",
      "ATM Menu:\n",
      "1. Display Balance\n",
      "2. Deposit Money\n",
      "3. Withdraw Money\n",
      "4. Exit\n"
     ]
    },
    {
     "name": "stdin",
     "output_type": "stream",
     "text": [
      "Enter your choice (1-4):  3\n",
      "Enter the amount to withdraw: $ 5335\n"
     ]
    },
    {
     "name": "stdout",
     "output_type": "stream",
     "text": [
      "Insufficient funds. Withdrawal canceled.\n",
      "\n",
      "ATM Menu:\n",
      "1. Display Balance\n",
      "2. Deposit Money\n",
      "3. Withdraw Money\n",
      "4. Exit\n"
     ]
    }
   ],
   "source": [
    "#15. Create a program that simulates a basic ATM transaction menu.\n",
    "class ATM:\n",
    "    def __init__(self, balance=1000):\n",
    "        self.balance = balance\n",
    "\n",
    "    def display_balance(self):\n",
    "        print(f\"Your account balance is: ${self.balance}\")\n",
    "\n",
    "    def deposit(self, amount):\n",
    "        self.balance += amount\n",
    "        print(f\"Deposited ${amount}. Your new balance is: ${self.balance}\")\n",
    "\n",
    "    def withdraw(self, amount):\n",
    "        if amount <= self.balance:\n",
    "            self.balance -= amount\n",
    "            print(f\"Withdrew ${amount}. Your new balance is: ${self.balance}\")\n",
    "        else:\n",
    "            print(\"Insufficient funds. Withdrawal canceled.\")\n",
    "\n",
    "# Main ATM program\n",
    "def main():\n",
    "    atm = ATM()\n",
    "\n",
    "    while True:\n",
    "        print(\"\\nATM Menu:\")\n",
    "        print(\"1. Display Balance\")\n",
    "        print(\"2. Deposit Money\")\n",
    "        print(\"3. Withdraw Money\")\n",
    "        print(\"4. Exit\")\n",
    "\n",
    "        choice = input(\"Enter your choice (1-4): \")\n",
    "\n",
    "        if choice == '1':\n",
    "            atm.display_balance()\n",
    "        elif choice == '2':\n",
    "            amount = float(input(\"Enter the amount to deposit: $\"))\n",
    "            atm.deposit(amount)\n",
    "        elif choice == '3':\n",
    "            amount = float(input(\"Enter the amount to withdraw: $\"))\n",
    "            atm.withdraw(amount)\n",
    "        elif choice == '4':\n",
    "            print(\"Thank you for using the ATM. Goodbye!\")\n",
    "            break\n",
    "        else:\n",
    "            print(\"Invalid choice. Please enter a number between 1 and 4.\")\n",
    "\n",
    "if __name__ == \"__main__\":\n",
    "    main()\n",
    "\n",
    "    "
   ]
  },
  {
   "cell_type": "code",
   "execution_count": 6,
   "id": "fb3445d0-9969-48f9-bfcd-6760d3c64735",
   "metadata": {},
   "outputs": [
    {
     "name": "stdin",
     "output_type": "stream",
     "text": [
      "Enter a string:  kittik\n"
     ]
    },
    {
     "name": "stdout",
     "output_type": "stream",
     "text": [
      "kittik is a palindrome.\n"
     ]
    }
   ],
   "source": [
    "#16. Build a program that checks if a given string is a palindrome or not.\n",
    "def is_palindrome(s):\n",
    "    s = ''.join(s.split()).lower()\n",
    "    return s == s[::-1]\n",
    "\n",
    "user_input = input(\"Enter a string: \")\n",
    "\n",
    "if is_palindrome(user_input):\n",
    "    print(f\"{user_input} is a palindrome.\")\n",
    "else:\n",
    "    print(f\"{user_input} is not a palindrome.\")"
   ]
  },
  {
   "cell_type": "code",
   "execution_count": 26,
   "id": "ce709fe3-d26b-4df3-88bc-aa4b8443a25e",
   "metadata": {},
   "outputs": [
    {
     "name": "stdout",
     "output_type": "stream",
     "text": [
      "30.75\n"
     ]
    }
   ],
   "source": [
    "#17. Write a program that calculates the average of a list of numbers, excluding the smallest and largest values.\n",
    "list1 = [19,10,13,33,44,24,59,20,34,69]\n",
    "exclude= sorted(list1)[1:-1] # excluding smallest and largest value\n",
    "average = sum(exclude) /len(exclude)\n",
    "\n",
    "print(average)"
   ]
  },
  {
   "cell_type": "code",
   "execution_count": 6,
   "id": "a988a5cc-a9de-4d04-9c89-f666e5335121",
   "metadata": {},
   "outputs": [
    {
     "name": "stdin",
     "output_type": "stream",
     "text": [
      "Enter a temperature 102\n"
     ]
    },
    {
     "name": "stdout",
     "output_type": "stream",
     "text": [
      "The temperature in Celsius is  102.0 and in Fahrenheit is 215.6\n"
     ]
    }
   ],
   "source": [
    "#18. Develop a program that converts a given temperature from Celsius to Fahrenheit.\n",
    "def temprature(n):\n",
    "    fahrenheit = (9/5)*n + 32\n",
    "    return fahrenheit\n",
    "\n",
    "celsius = float(input(\"Enter a temperature\"))\n",
    "fahrenheit = temprature(celsius)\n",
    "print (f\"The temperature in Celsius is  {celsius} and in Fahrenheit is {fahrenheit}\")"
   ]
  },
  {
   "cell_type": "code",
   "execution_count": null,
   "id": "80bcb6e3-b611-4671-8d6e-6bd01efae871",
   "metadata": {},
   "outputs": [
    {
     "name": "stdout",
     "output_type": "stream",
     "text": [
      "Welcome to the Simple Calculator!\n"
     ]
    }
   ],
   "source": [
    "#19. Create a program that simulates a basic calculator for addition, subtraction, multiplication, and division.\n",
    "def calculator():\n",
    "    print(\"Welcome to the Simple Calculator!\")\n",
    "    add = \"+\" \n",
    "\n",
    "    num1 = float(input(\"Enter the first number: \"))\n",
    "    num2 = float(input(\"Enter the second number: \"))\n",
    "\n",
    "    print(\"Results:\")\n",
    "    if add:\n",
    "        print(f\"{num1} + {num2} = {num1 + num2}\")\n",
    "    print(f\"{num1} - {num2} = {num1 - num2}\")\n",
    "    print(f\"{num1} * {num2} = {num1 * num2}\")\n",
    "\n",
    "    if num2 != 0:\n",
    "        print(f\"{num1} / {num2} = {num1 / num2}\")\n",
    "    else:\n",
    "        print(\"Cannot divide by zero.\")\n",
    "\n",
    "# Call the calculator function to start the program\n",
    "calculator()\n",
    "\n",
    "    \n",
    "    "
   ]
  },
  {
   "cell_type": "code",
   "execution_count": 1,
   "id": "8a9705c4-19e1-416e-a822-2f0e621209bc",
   "metadata": {},
   "outputs": [
    {
     "name": "stdout",
     "output_type": "stream",
     "text": [
      "Welcome to the Simple Calculator!\n"
     ]
    },
    {
     "name": "stdin",
     "output_type": "stream",
     "text": [
      "Enter the first number:  11\n",
      "Enter the second number:  12\n"
     ]
    },
    {
     "name": "stdout",
     "output_type": "stream",
     "text": [
      "Select operation:\n",
      "add. Addition\n",
      "sub. Subtraction\n",
      "mul. Multiplication\n",
      "div. Division\n"
     ]
    },
    {
     "name": "stdin",
     "output_type": "stream",
     "text": [
      "Enter choice (add/sub/mul/div):  add\n"
     ]
    },
    {
     "name": "stdout",
     "output_type": "stream",
     "text": [
      "Result: 11.0 + 12.0 = 23.0\n"
     ]
    }
   ],
   "source": [
    "def calculator():\n",
    "    print(\"Welcome to the Simple Calculator!\")\n",
    "\n",
    "    num1 = float(input(\"Enter the first number: \"))\n",
    "    num2 = float(input(\"Enter the second number: \"))\n",
    "\n",
    "    print(\"Select operation:\")\n",
    "    print(\"add. Addition\")\n",
    "    print(\"sub. Subtraction\")\n",
    "    print(\"mul. Multiplication\")\n",
    "    print(\"div. Division\")\n",
    "\n",
    "    choice = input(\"Enter choice (add/sub/mul/div): \")\n",
    "\n",
    "    if choice == 'add':\n",
    "        print(f\"Result: {num1} + {num2} = {num1 + num2}\")\n",
    "    elif choice == 'sub':\n",
    "        print(f\"Result: {num1} - {num2} = {num1 - num2}\")\n",
    "    elif choice == 'mul':\n",
    "        print(f\"Result: {num1} * {num2} = {num1 * num2}\")\n",
    "    elif choice == 'div':\n",
    "        if num2 != 0:\n",
    "            print(f\"Result: {num1} / {num2} = {num1 / num2}\")\n",
    "        else:\n",
    "            print(\"Cannot divide by zero.\")\n",
    "    else:\n",
    "        print(\"Invalid choice. Please enter a valid operation.\")\n",
    "\n",
    "# Call the calculator function to start the program\n",
    "calculator()\n"
   ]
  },
  {
   "cell_type": "code",
   "execution_count": 2,
   "id": "c2cc97d3-a111-4aaa-b2b5-cffbb5c3085e",
   "metadata": {},
   "outputs": [
    {
     "name": "stdin",
     "output_type": "stream",
     "text": [
      "Enter  a:  12\n",
      "Enter  b:  16\n",
      "Enter  c:  20\n",
      "Enter  d:  25\n"
     ]
    },
    {
     "name": "stdout",
     "output_type": "stream",
     "text": [
      "Roots of the cubic equation:\n",
      "Root 1: -0.43257546014344256\n",
      "Root 2: -0.4924576776196232\n",
      "Root 3: -0.4083001955702676\n"
     ]
    }
   ],
   "source": [
    "#20. Write a program that determines the roots of a cubic equation using the Cardano formula.\n",
    "def calculate_cardano_roots(a, b, c, d):\n",
    "    # Calculate the discriminant and other intermediate values\n",
    "    p = (3*a*c - b**2) / (3*a**2)\n",
    "    q = (2*b**3 - 9*a*b*c + 27*a**2*d) / (27*a**3)\n",
    "    delta = (q**2) + (4*p**3) / 27\n",
    "    u = (-1 + delta**0.5) / 2\n",
    "    v = (-1 - delta**0.5) / 2\n",
    "\n",
    "    # Calculate the cube roots\n",
    "    cube_root_u = u**(1/3) if u >= 0 else -((-u)**(1/3))\n",
    "    cube_root_v = v**(1/3) if v >= 0 else -((-v)**(1/3))\n",
    "\n",
    "    # Calculate the roots\n",
    "    root_1 = -1 / (3*a) * (b + cube_root_u + cube_root_v)\n",
    "    root_2 = -1 / (3*a) * (b - (cube_root_u + cube_root_v) / 2 + (cube_root_u - cube_root_v) * (3**0.5) / 2)\n",
    "    root_3 = -1 / (3*a) * (b - (cube_root_u + cube_root_v) / 2 - (cube_root_u - cube_root_v) * (3**0.5) / 2)\n",
    "\n",
    "    return root_1, root_2, root_3\n",
    "\n",
    "# Input coefficients from the user\n",
    "a = float(input(\"Enter  a: \"))\n",
    "b = float(input(\"Enter  b: \"))\n",
    "c = float(input(\"Enter  c: \"))\n",
    "d = float(input(\"Enter  d: \"))\n",
    "\n",
    "# Calculate and display the roots\n",
    "roots = calculate_cardano_roots(a, b, c, d)\n",
    "print(\"Roots of the cubic equation:\")\n",
    "print(f\"Root 1: {roots[0]}\")\n",
    "print(f\"Root 2: {roots[1]}\")\n",
    "print(f\"Root 3: {roots[2]}\")\n"
   ]
  },
  {
   "cell_type": "code",
   "execution_count": 1,
   "id": "5efbe746-e962-4b7f-a621-69311426b2b9",
   "metadata": {},
   "outputs": [
    {
     "name": "stdin",
     "output_type": "stream",
     "text": [
      "Enter your income:  12000\n"
     ]
    },
    {
     "name": "stdout",
     "output_type": "stream",
     "text": [
      "Your income tax is: $0.00\n"
     ]
    }
   ],
   "source": [
    "#21. Create a program that calculates the income tax based on the user's income and tax brackets.\n",
    "def calculate_income_tax(income):\n",
    "    if income <= 18200:\n",
    "        tax = 0\n",
    "    elif 18201 <= income <= 45000:\n",
    "        tax = (income - 18200) * 0.19\n",
    "    elif 45001 <= income <= 120000:\n",
    "        tax = 5092 + (income - 45000) * 0.325\n",
    "    elif 120001 <= income <= 180000:\n",
    "        tax = 29467 + (income - 120000) * 0.37\n",
    "    else:\n",
    "        tax = 51667 + (income - 180000) * 0.45\n",
    "    return tax\n",
    "\n",
    "income = float(input(\"Enter your income: \"))\n",
    "income_tax = calculate_income_tax(income)\n",
    "print(f\"Your income tax is: ${income_tax:.2f}\")\n"
   ]
  },
  {
   "cell_type": "code",
   "execution_count": 3,
   "id": "e24f1391-0c6a-4acb-a47f-4139f50e5593",
   "metadata": {},
   "outputs": [
    {
     "name": "stdin",
     "output_type": "stream",
     "text": [
      "Enter your choice (rock/paper/scissors):  rock\n"
     ]
    },
    {
     "name": "stdout",
     "output_type": "stream",
     "text": [
      "Computer chose: rock\n",
      "It's a tie!\n"
     ]
    }
   ],
   "source": [
    "#22. Write a program that simulates a rock-paper-scissors game against the computer.\n",
    "import random\n",
    "\n",
    "def play_rps(user_choice):\n",
    "    choices = ['rock', 'paper', 'scissors']\n",
    "    computer_choice = random.choice(choices)\n",
    "\n",
    "    print(f\"Computer chose: {computer_choice}\")\n",
    "\n",
    "    if user_choice == computer_choice:\n",
    "        return \"It's a tie!\"\n",
    "    elif (\n",
    "        (user_choice == 'rock' and computer_choice == 'scissors') or\n",
    "        (user_choice == 'paper' and computer_choice == 'rock') or\n",
    "        (user_choice == 'scissors' and computer_choice == 'paper')\n",
    "    ):\n",
    "        return \"You win!\"\n",
    "    else:\n",
    "        return \"You lose!\"\n",
    "\n",
    "user_choice = input(\"Enter your choice (rock/paper/scissors): \").lower()\n",
    "result = play_rps(user_choice)\n",
    "print(result)\n",
    "\n"
   ]
  },
  {
   "cell_type": "code",
   "execution_count": 9,
   "id": "792c0caa-7d94-4e49-98fb-12e1c588cbf6",
   "metadata": {},
   "outputs": [
    {
     "name": "stdin",
     "output_type": "stream",
     "text": [
      "Enter password length:  22\n",
      "Enter password complexity (uppercase/lowercase/digits/special):  special\n"
     ]
    },
    {
     "name": "stdout",
     "output_type": "stream",
     "text": [
      "Generated Password: *{!^\\/(,$[<`_(#|@+/`#*\n"
     ]
    }
   ],
   "source": [
    "#23. Develop a program that generates a random password based on user preferences (length, complexity).\n",
    "import random\n",
    "import string\n",
    "\n",
    "def generate_password(length, complexity):\n",
    "    characters = ''\n",
    "    if 'uppercase' in complexity:\n",
    "        characters += string.ascii_uppercase\n",
    "    if 'lowercase' in complexity:\n",
    "        characters += string.ascii_lowercase\n",
    "    if 'digits' in complexity:\n",
    "        characters += string.digits\n",
    "    if 'special' in complexity:\n",
    "        characters += string.punctuation\n",
    "\n",
    "    password = ''.join(random.choice(characters) for _ in range(length))\n",
    "    return password\n",
    "\n",
    "length = int(input(\"Enter password length: \"))\n",
    "complexity = input(\"Enter password complexity (uppercase/lowercase/digits/special): \").split(',')\n",
    "password = generate_password(length, complexity)\n",
    "print(f\"Generated Password: {password}\")\n"
   ]
  },
  {
   "cell_type": "code",
   "execution_count": 10,
   "id": "66b084ef-16c7-45bc-bb0e-504643ed7e98",
   "metadata": {},
   "outputs": [
    {
     "name": "stdout",
     "output_type": "stream",
     "text": [
      "Welcome to the Text-Based Adventure Game!\n",
      "You find yourself at a crossroads. Do you go left or right?\n"
     ]
    },
    {
     "name": "stdin",
     "output_type": "stream",
     "text": [
      "Enter your choice (left/right):  left\n"
     ]
    },
    {
     "name": "stdout",
     "output_type": "stream",
     "text": [
      "You encounter a friendly dragon. It gives you a treasure!\n"
     ]
    }
   ],
   "source": [
    "#24. Create a program that implements a simple text-based adventure game with branching scenarios.\n",
    "def adventure_game():\n",
    "    print(\"Welcome to the Text-Based Adventure Game!\")\n",
    "    print(\"You find yourself at a crossroads. Do you go left or right?\")\n",
    "\n",
    "    choice = input(\"Enter your choice (left/right): \").lower()\n",
    "\n",
    "    if choice == 'left':\n",
    "        print(\"You encounter a friendly dragon. It gives you a treasure!\")\n",
    "    elif choice == 'right':\n",
    "        print(\"You stumble upon a dark cave. It leads to a hidden treasure!\")\n",
    "    else:\n",
    "        print(\"Invalid choice. The adventure ends here.\")\n",
    "\n",
    "adventure_game()\n"
   ]
  },
  {
   "cell_type": "code",
   "execution_count": 11,
   "id": "36e12baf-dfb4-4cd3-941f-20602ea9fba8",
   "metadata": {},
   "outputs": [
    {
     "name": "stdin",
     "output_type": "stream",
     "text": [
      "Enter the coefficient 'a':  19\n",
      "Enter the coefficient 'b':  13\n"
     ]
    },
    {
     "name": "stdout",
     "output_type": "stream",
     "text": [
      "The solution for x is: -0.6842105263157895\n"
     ]
    }
   ],
   "source": [
    "#25. Build a program that solves a linear equation for x, considering different cases.\n",
    "def solve_linear_equation(a, b):\n",
    "    if a == 0:\n",
    "        if b == 0:\n",
    "            return \"Infinite solutions (identity)\"\n",
    "        else:\n",
    "            return \"No solution\"\n",
    "    else:\n",
    "        x = -b / a\n",
    "        return f\"The solution for x is: {x}\"\n",
    "\n",
    "a = float(input(\"Enter the  'a': \"))\n",
    "b = float(input(\"Enter the  'b': \"))\n",
    "result = solve_linear_equation(a, b)\n",
    "print(result)\n"
   ]
  },
  {
   "cell_type": "code",
   "execution_count": 12,
   "id": "b2330df4-3a7d-4fac-9607-49be0e3653d0",
   "metadata": {},
   "outputs": [
    {
     "name": "stdout",
     "output_type": "stream",
     "text": [
      "What is the capital of France?\n",
      "A. Paris\n",
      "B. London\n",
      "C. Berlin\n"
     ]
    },
    {
     "name": "stdin",
     "output_type": "stream",
     "text": [
      "Your answer:  a\n"
     ]
    },
    {
     "name": "stdout",
     "output_type": "stream",
     "text": [
      "Correct!\n",
      "\n",
      "Which planet is known as the Red Planet?\n",
      "A. Venus\n",
      "B. Mars\n",
      "C. Jupiter\n"
     ]
    },
    {
     "name": "stdin",
     "output_type": "stream",
     "text": [
      "Your answer:  b\n"
     ]
    },
    {
     "name": "stdout",
     "output_type": "stream",
     "text": [
      "Correct!\n",
      "\n",
      "What is the largest mammal in the world?\n",
      "A. Elephant\n",
      "B. Blue Whale\n",
      "C. Giraffe\n"
     ]
    },
    {
     "name": "stdin",
     "output_type": "stream",
     "text": [
      "Your answer:  b\n"
     ]
    },
    {
     "name": "stdout",
     "output_type": "stream",
     "text": [
      "Correct!\n",
      "\n",
      "Your final score is: 3/3\n"
     ]
    }
   ],
   "source": [
    "#26. Write a program that simulates a basic quiz game with multiple-choice questions and scoring.\n",
    "def quiz():\n",
    "    questions = [\n",
    "        {\"question\": \"What is the capital of France?\", \"options\": [\"A. Paris\", \"B. London\", \"C. Berlin\"], \"answer\": \"A\"},\n",
    "        {\"question\": \"Which planet is known as the Red Planet?\", \"options\": [\"A. Venus\", \"B. Mars\", \"C. Jupiter\"], \"answer\": \"B\"},\n",
    "        {\"question\": \"What is the largest mammal in the world?\", \"options\": [\"A. Elephant\", \"B. Blue Whale\", \"C. Giraffe\"], \"answer\": \"B\"}\n",
    "    ]\n",
    "\n",
    "    score = 0\n",
    "\n",
    "    for q in questions:\n",
    "        print(q[\"question\"])\n",
    "        for option in q[\"options\"]:\n",
    "            print(option)\n",
    "\n",
    "        user_answer = input(\"Your answer: \").upper()\n",
    "\n",
    "        if user_answer == q[\"answer\"]:\n",
    "            print(\"Correct!\\n\")\n",
    "            score += 1\n",
    "        else:\n",
    "            print(f\"Wrong! The correct answer is {q['answer']}.\\n\")\n",
    "\n",
    "    print(f\"Your final score is: {score}/{len(questions)}\")\n",
    "\n",
    "# Call the quiz function to start the game\n",
    "quiz()\n"
   ]
  },
  {
   "cell_type": "code",
   "execution_count": 14,
   "id": "2ee89074-84b9-4bf1-8816-7b8d191e6c89",
   "metadata": {},
   "outputs": [
    {
     "name": "stdin",
     "output_type": "stream",
     "text": [
      "Enter a year:  2030\n"
     ]
    },
    {
     "name": "stdout",
     "output_type": "stream",
     "text": [
      "2030 is not a prime year.\n"
     ]
    }
   ],
   "source": [
    "#27. Develop a program that determines whether a given year is a prime number or not.\n",
    "\n",
    "def is_prime(year):\n",
    "    if year < 2:\n",
    "        return False\n",
    "    for i in range(2, int(year**0.5) + 1):\n",
    "        if year % i == 0:\n",
    "            return False\n",
    "    return True\n",
    "\n",
    "# Get user input\n",
    "year = int(input(\"Enter a year: \"))\n",
    "\n",
    "# Check and display whether the year is prime or not\n",
    "if is_prime(year):\n",
    "    print(f\"{year} is a prime year.\")\n",
    "else:\n",
    "    print(f\"{year} is not a prime year.\")\n"
   ]
  },
  {
   "cell_type": "code",
   "execution_count": 15,
   "id": "412e5577-980a-4673-98df-bf34530d12ce",
   "metadata": {},
   "outputs": [
    {
     "name": "stdin",
     "output_type": "stream",
     "text": [
      "Enter the first number:  2\n",
      "Enter the second number:  9\n",
      "Enter the third number:  11\n"
     ]
    },
    {
     "name": "stdout",
     "output_type": "stream",
     "text": [
      "Sorted numbers in ascending order: [2.0, 9.0, 11.0]\n"
     ]
    }
   ],
   "source": [
    "#28. Create a program that sorts three numbers in ascending order using conditional statements.\n",
    "# Get user input\n",
    "num1 = float(input(\"Enter the first number: \"))\n",
    "num2 = float(input(\"Enter the second number: \"))\n",
    "num3 = float(input(\"Enter the third number: \"))\n",
    "\n",
    "# Sort the numbers in ascending order\n",
    "if num1 <= num2 <= num3:\n",
    "    sorted_numbers = [num1, num2, num3]\n",
    "elif num1 <= num3 <= num2:\n",
    "    sorted_numbers = [num1, num3, num2]\n",
    "elif num2 <= num1 <= num3:\n",
    "    sorted_numbers = [num2, num1, num3]\n",
    "elif num2 <= num3 <= num1:\n",
    "    sorted_numbers = [num2, num3, num1]\n",
    "elif num3 <= num1 <= num2:\n",
    "    sorted_numbers = [num3, num1, num2]\n",
    "else:\n",
    "    sorted_numbers = [num3, num2, num1]\n",
    "\n",
    "# Display the sorted numbers\n",
    "print(f\"Sorted numbers in ascending order: {sorted_numbers}\")\n"
   ]
  },
  {
   "cell_type": "code",
   "execution_count": 19,
   "id": "ab0c3ec1-38c0-4a46-b653-ca340b5f60ba",
   "metadata": {},
   "outputs": [
    {
     "name": "stdout",
     "output_type": "stream",
     "text": [
      "The roots of the quartic equation are: [4. 3. 2. 1.]\n"
     ]
    }
   ],
   "source": [
    "#29. Build a program that determines the roots of a quartic equation using numerical methods.\n",
    "import numpy as np\n",
    "\n",
    "def quartic_equation(x, coefficients):\n",
    "    return np.polyval(coefficients, x)\n",
    "\n",
    "def find_roots(coefficients):\n",
    "    # Use numpy's roots function to find approximate roots\n",
    "    roots = np.roots(coefficients)\n",
    "    return roots\n",
    "\n",
    "# Example coefficients for the quartic equation: ax^4 + bx^3 + cx^2 + dx + e\n",
    "coefficients = [1, -10, 35, -50, 24]\n",
    "\n",
    "# Find and display the roots\n",
    "roots = find_roots(coefficients)\n",
    "print(f\"The roots of the quartic equation are: {roots}\")\n"
   ]
  },
  {
   "cell_type": "code",
   "execution_count": 17,
   "id": "0ba9580c-534a-4f1c-aebb-f28e6134146a",
   "metadata": {},
   "outputs": [
    {
     "name": "stdin",
     "output_type": "stream",
     "text": [
      "Enter your weight in kg:  3773\n",
      "Enter your height in meters:  14\n"
     ]
    },
    {
     "name": "stdout",
     "output_type": "stream",
     "text": [
      "Your BMI is: 19.25\n",
      "Health Recommendations: Normal weight - Maintain a healthy lifestyle.\n"
     ]
    }
   ],
   "source": [
    "#30. Write a program that calculates the BMI (Body Mass Index) and provides health recommendations based\n",
    "def calculate_bmi(weight, height):\n",
    "    bmi = weight / (height ** 2)\n",
    "    return bmi\n",
    "\n",
    "def health_recommendations(bmi):\n",
    "    if bmi < 18.5:\n",
    "        return \"Underweight - Consider gaining weight.\"\n",
    "    elif 18.5 <= bmi < 24.9:\n",
    "        return \"Normal weight - Maintain a healthy lifestyle.\"\n",
    "    elif 25 <= bmi < 29.9:\n",
    "        return \"Overweight - Consider losing weight.\"\n",
    "    else:\n",
    "        return \"Obese - Consult with a healthcare professional.\"\n",
    "\n",
    "# Get user input\n",
    "weight = float(input(\"Enter your weight in kg: \"))\n",
    "height = float(input(\"Enter your height in meters: \"))\n",
    "\n",
    "# Calculate BMI and provide health recommendations\n",
    "bmi = calculate_bmi(weight, height)\n",
    "recommendations = health_recommendations(bmi)\n",
    "\n",
    "# Display the results\n",
    "print(f\"Your BMI is: {bmi:.2f}\")\n",
    "print(f\"Health Recommendations: {recommendations}\")\n"
   ]
  },
  {
   "cell_type": "code",
   "execution_count": null,
   "id": "f8127703-ed8b-4390-9141-abda10ca96ef",
   "metadata": {},
   "outputs": [
    {
     "name": "stdin",
     "output_type": "stream",
     "text": [
      "Enter your password:  AZMAN\n"
     ]
    },
    {
     "name": "stdout",
     "output_type": "stream",
     "text": [
      "Password should be at least 8 characters long.\n"
     ]
    }
   ],
   "source": [
    "#31. Create a program that validates a password based on complexity rules (length, characters, etc.).\n",
    "import string\n",
    "\n",
    "def validate_password(password):\n",
    "    # Check length\n",
    "    if len(password) < 8:\n",
    "        return False, \"Password should be at least 8 characters long.\"\n",
    "\n",
    "    # Check for at least one uppercase letter\n",
    "    if not any(char.isupper() for char in password):\n",
    "        return False, \"Password should contain at least one uppercase letter.\"\n",
    "\n",
    "    # Check for at least one lowercase letter\n",
    "    if not any(char.islower() for char in password):\n",
    "        return False, \"Password should contain at least one lowercase letter.\"\n",
    "\n",
    "    # Check for at least one digit\n",
    "    if not any(char.isdigit() for char in password):\n",
    "        return False, \"Password should contain at least one digit.\"\n",
    "\n",
    "    # Check for at least one special character\n",
    "    if not any(char in string.punctuation for char in password):\n",
    "        return False, \"Password should contain at least one special character.\"\n",
    "\n",
    "    # If all checks pass, the password is valid\n",
    "    return True, \"Password is valid.\"\n",
    "\n",
    "# Get user input\n",
    "password = input(\"Enter your password: \")\n",
    "\n",
    "# Validate the password and display the result\n",
    "is_valid,message = validate_password(password)\n",
    "print(message)\n"
   ]
  },
  {
   "cell_type": "code",
   "execution_count": 29,
   "id": "34bf4158-d136-4007-8b00-5031a32abe1e",
   "metadata": {},
   "outputs": [
    {
     "name": "stdout",
     "output_type": "stream",
     "text": [
      "Enter values for the first matrix:\n"
     ]
    },
    {
     "name": "stdin",
     "output_type": "stream",
     "text": [
      "Enter the number of rows:  3\n",
      "Enter the number of columns:  3\n",
      "Enter values for row 1 (separated by space):   1 2 3\n",
      "Enter values for row 2 (separated by space):  4 5 6\n",
      "Enter values for row 3 (separated by space):  7 8 9\n"
     ]
    },
    {
     "name": "stdout",
     "output_type": "stream",
     "text": [
      "Enter values for the second matrix:\n"
     ]
    },
    {
     "name": "stdin",
     "output_type": "stream",
     "text": [
      "Enter the number of rows:  3\n",
      "Enter the number of columns:  3\n",
      "Enter values for row 1 (separated by space):  1 2 3\n",
      "Enter values for row 2 (separated by space):  4 5 6\n",
      "Enter values for row 3 (separated by space):  7 8 9\n",
      "Choose operation (addition/subtraction):  addition\n"
     ]
    },
    {
     "name": "stdout",
     "output_type": "stream",
     "text": [
      "\n",
      "Matrix Addition Result:\n",
      "[2.0, 4.0, 6.0]\n",
      "[8.0, 10.0, 12.0]\n",
      "[14.0, 16.0, 18.0]\n"
     ]
    }
   ],
   "source": [
    "#32. Develop a program that performs matrix addition and subtraction based on user input.\n",
    "def input_matrix():\n",
    "    rows = int(input(\"Enter the number of rows: \"))\n",
    "    cols = int(input(\"Enter the number of columns: \"))\n",
    "    \n",
    "    matrix = []\n",
    "    for i in range(rows):\n",
    "        row = [float(x) for x in input(f\"Enter values for row {i + 1} (separated by space): \").split()]\n",
    "        matrix.append(row)\n",
    "    \n",
    "    return matrix\n",
    "\n",
    "def add_matrices(matrix1, matrix2):\n",
    "    return [[matrix1[i][j] + matrix2[i][j] for j in range(len(matrix1[0]))] for i in range(len(matrix1))]\n",
    "\n",
    "def subtract_matrices(matrix1, matrix2):\n",
    "    return [[matrix1[i][j] - matrix2[i][j] for j in range(len(matrix1[0]))] for i in range(len(matrix1))]\n",
    "\n",
    "def display_matrix(matrix):\n",
    "    for row in matrix:\n",
    "        print(row)\n",
    "\n",
    "# Input matrices\n",
    "print(\"Enter values for the first matrix:\")\n",
    "matrix1 = input_matrix()\n",
    "\n",
    "print(\"Enter values for the second matrix:\")\n",
    "matrix2 = input_matrix()\n",
    "\n",
    "# Choose operation\n",
    "operation = input(\"Choose operation (addition/subtraction): \").lower()\n",
    "\n",
    "# Perform the selected operation\n",
    "if operation == \"addition\":\n",
    "    result_matrix = add_matrices(matrix1, matrix2)\n",
    "    print(\"\\nMatrix Addition Result:\")\n",
    "    display_matrix(result_matrix)\n",
    "elif operation == \"subtraction\":\n",
    "    result_matrix = subtract_matrices(matrix1, matrix2)\n",
    "    print(\"\\nMatrix Subtraction Result:\")\n",
    "    display_matrix(result_matrix)\n",
    "else:\n",
    "    print(\"Invalid operation. Please choose 'addition' or 'subtraction'.\")\n"
   ]
  },
  {
   "cell_type": "code",
   "execution_count": 1,
   "id": "dce9d29f-1cb0-4ecb-84e6-39c5237edaed",
   "metadata": {},
   "outputs": [
    {
     "name": "stdin",
     "output_type": "stream",
     "text": [
      "Enter the first number:  120\n",
      "Enter the second number:  10\n"
     ]
    },
    {
     "name": "stdout",
     "output_type": "stream",
     "text": [
      "The GCD of 120 and 10 is: 10\n"
     ]
    }
   ],
   "source": [
    "'''#33. Write a program that calculates the greatest common divisor (GCD) of two numbers using the Euclidean\n",
    "algorithm.'''\n",
    "def gcd_euclidean(a, b):\n",
    "    while b:\n",
    "        a, b = b, a % b\n",
    "    return a\n",
    "\n",
    "# Get user input for two numbers\n",
    "num1 = int(input(\"Enter the first number: \"))\n",
    "num2 = int(input(\"Enter the second number: \"))\n",
    "\n",
    "# Calculate and display the GCD\n",
    "result = gcd_euclidean(num1, num2)\n",
    "print(f\"The GCD of {num1} and {num2} is: {result}\")\n"
   ]
  },
  {
   "cell_type": "code",
   "execution_count": 2,
   "id": "e5cefa77-6502-4b8e-84b9-2dae8689839d",
   "metadata": {},
   "outputs": [
    {
     "name": "stdout",
     "output_type": "stream",
     "text": [
      "Result of matrix multiplication:\n",
      "[94, 103]\n",
      "[184, 202]\n"
     ]
    }
   ],
   "source": [
    "#34. Build a program that performs matrix multiplication using nested loops and conditional statements.\n",
    "def matrix_multiply(matrix1, matrix2):\n",
    "    rows1 = len(matrix1)\n",
    "    cols1 = len(matrix1[0])\n",
    "    rows2 = len(matrix2)\n",
    "    cols2 = len(matrix2[0])\n",
    "\n",
    "    # Check if matrix multiplication is possible\n",
    "    if cols1 != rows2:\n",
    "        print(\"Matrix multiplication is not possible.\")\n",
    "        return None\n",
    "\n",
    "    # Initialize the result matrix with zeros\n",
    "    result = [[0 for _ in range(cols2)] for _ in range(rows1)]\n",
    "\n",
    "    # Perform matrix multiplication using nested loops\n",
    "    for i in range(rows1):\n",
    "        for j in range(cols2):\n",
    "            for k in range(cols1):\n",
    "                result[i][j] += matrix1[i][k] * matrix2[k][j]\n",
    "\n",
    "    return result\n",
    "\n",
    "# Example matrices\n",
    "matrix_A = [\n",
    "    [2, 3, 4],\n",
    "    [5, 6, 7],\n",
    "]\n",
    "\n",
    "matrix_B = [\n",
    "    [8, 9],\n",
    "    [10, 11],\n",
    "    [12, 13],\n",
    "]\n",
    "\n",
    "# Perform matrix multiplication\n",
    "result_matrix = matrix_multiply(matrix_A, matrix_B)\n",
    "\n",
    "# Display the result matrix\n",
    "if result_matrix:\n",
    "    print(\"Result of matrix multiplication:\")\n",
    "    for row in result_matrix:\n",
    "        print(row)\n"
   ]
  },
  {
   "cell_type": "code",
   "execution_count": 5,
   "id": "78db7c50-03ea-4947-b6c1-e7ae940104e6",
   "metadata": {},
   "outputs": [
    {
     "name": "stdout",
     "output_type": "stream",
     "text": [
      "Welcome to Tic-Tac-Toe!\n",
      "  |   |  \n",
      "---------\n",
      "  |   |  \n",
      "---------\n",
      "  |   |  \n",
      "---------\n"
     ]
    },
    {
     "name": "stdin",
     "output_type": "stream",
     "text": [
      "Enter the row (0, 1, or 2):  0\n",
      "Enter the column (0, 1, or 2):  1\n"
     ]
    },
    {
     "name": "stdout",
     "output_type": "stream",
     "text": [
      "Computer's turn...\n",
      "  | X |  \n",
      "---------\n",
      "O |   |  \n",
      "---------\n",
      "  |   |  \n",
      "---------\n"
     ]
    },
    {
     "name": "stdin",
     "output_type": "stream",
     "text": [
      "Enter the row (0, 1, or 2):  1\n",
      "Enter the column (0, 1, or 2):  0\n"
     ]
    },
    {
     "name": "stdout",
     "output_type": "stream",
     "text": [
      "Invalid move. Try again.\n"
     ]
    },
    {
     "name": "stdin",
     "output_type": "stream",
     "text": [
      "Enter the row (0, 1, or 2):  0\n",
      "Enter the column (0, 1, or 2):  0\n"
     ]
    },
    {
     "name": "stdout",
     "output_type": "stream",
     "text": [
      "Computer's turn...\n",
      "X | X | O\n",
      "---------\n",
      "O |   |  \n",
      "---------\n",
      "  |   |  \n",
      "---------\n"
     ]
    },
    {
     "name": "stdin",
     "output_type": "stream",
     "text": [
      "Enter the row (0, 1, or 2):  2\n",
      "Enter the column (0, 1, or 2):  2\n"
     ]
    },
    {
     "name": "stdout",
     "output_type": "stream",
     "text": [
      "Computer's turn...\n",
      "X | X | O\n",
      "---------\n",
      "O | O |  \n",
      "---------\n",
      "  |   | X\n",
      "---------\n"
     ]
    },
    {
     "name": "stdin",
     "output_type": "stream",
     "text": [
      "Enter the row (0, 1, or 2):  2\n",
      "Enter the column (0, 1, or 2):  1\n"
     ]
    },
    {
     "name": "stdout",
     "output_type": "stream",
     "text": [
      "Computer's turn...\n",
      "X | X | O\n",
      "---------\n",
      "O | O | O\n",
      "---------\n",
      "  | X | X\n",
      "---------\n",
      "Oops! The computer wins.\n"
     ]
    }
   ],
   "source": [
    "#35. Create a program that simulates a basic text-based tic-tac-toe game against the computer.\n",
    "import random\n",
    "\n",
    "def print_board(board):\n",
    "    for row in board:\n",
    "        print(\" | \".join(row))\n",
    "        print(\"-\" * 9)\n",
    "\n",
    "def check_winner(board, player):\n",
    "    # Check rows, columns, and diagonals\n",
    "    for i in range(3):\n",
    "        if all(board[i][j] == player for j in range(3)) or all(board[j][i] == player for j in range(3)):\n",
    "            return True\n",
    "    return any((all(board[i][i] == player for i in range(3)), all(board[i][2 - i] == player for i in range(3))))\n",
    "\n",
    "def is_board_full(board):\n",
    "    return all(board[i][j] != ' ' for i in range(3) for j in range(3))\n",
    "\n",
    "def player_move(board):\n",
    "    while True:\n",
    "        try:\n",
    "            row = int(input(\"Enter the row (0, 1, or 2): \"))\n",
    "            col = int(input(\"Enter the column (0, 1, or 2): \"))\n",
    "            if 0 <= row < 3 and 0 <= col < 3 and board[row][col] == ' ':\n",
    "                return row, col\n",
    "            else:\n",
    "                print(\"Invalid move. Try again.\")\n",
    "        except ValueError:\n",
    "            print(\"Invalid input. Please enter a number.\")\n",
    "\n",
    "def computer_move(board):\n",
    "    empty_cells = [(i, j) for i in range(3) for j in range(3) if board[i][j] == ' ']\n",
    "    return random.choice(empty_cells)\n",
    "\n",
    "def play_tic_tac_toe():\n",
    "    board = [[' ' for _ in range(3)] for _ in range(3)]\n",
    "    player_symbol = 'X'\n",
    "    computer_symbol = 'O'\n",
    "\n",
    "    print(\"Welcome to Tic-Tac-Toe!\")\n",
    "\n",
    "    while True:\n",
    "        print_board(board)\n",
    "\n",
    "        # Player move\n",
    "        row, col = player_move(board)\n",
    "        board[row][col] = player_symbol\n",
    "\n",
    "        # Check if player wins\n",
    "        if check_winner(board, player_symbol):\n",
    "            print_board(board)\n",
    "            print(\"Congratulations! You win!\")\n",
    "            break\n",
    "\n",
    "        # Check if the board is full\n",
    "        if is_board_full(board):\n",
    "            print_board(board)\n",
    "            print(\"It's a tie! The board is full.\")\n",
    "            break\n",
    "\n",
    "        # Computer move\n",
    "        print(\"Computer's turn...\")\n",
    "        computer_row, computer_col = computer_move(board)\n",
    "        board[computer_row][computer_col] = computer_symbol\n",
    "\n",
    "        # Check if computer wins\n",
    "        if check_winner(board, computer_symbol):\n",
    "            print_board(board)\n",
    "            print(\"Oops! The computer wins.\")\n",
    "            break\n",
    "\n",
    "        # Check if the board is full\n",
    "        if is_board_full(board):\n",
    "            print_board(board)\n",
    "            print(\"It's a tie! The board is full.\")\n",
    "            break\n",
    "\n",
    "if __name__ == \"__main__\":\n",
    "    play_tic_tac_toe()\n"
   ]
  },
  {
   "cell_type": "code",
   "execution_count": 1,
   "id": "e3777d8d-5f60-4496-a332-d802a743fd4c",
   "metadata": {},
   "outputs": [
    {
     "name": "stdin",
     "output_type": "stream",
     "text": [
      "Enter the number of Fibonacci terms to generate:  12\n"
     ]
    },
    {
     "name": "stdout",
     "output_type": "stream",
     "text": [
      "Fibonacci sequence up to term 12 : [0, 1, 1, 2, 3, 5, 8, 13, 21, 34, 55, 89]\n"
     ]
    }
   ],
   "source": [
    "#37. Write a program that generates Fibonacci numbers up to a specified term using iterative methods.\n",
    "def generate_fibonacci(n):\n",
    "    fibonacci_sequence = [0, 1]\n",
    "\n",
    "    while len(fibonacci_sequence) < n:\n",
    "        next_number = fibonacci_sequence[-1] + fibonacci_sequence[-2]\n",
    "        fibonacci_sequence.append(next_number)\n",
    "\n",
    "    return fibonacci_sequence[:n]\n",
    "# Get user input for the number of terms\n",
    "term = int(input(\"Enter the number of Fibonacci terms to generate: \"))\n",
    "\n",
    "# Generate and print Fibonacci sequence\n",
    "fibonacci_sequence = generate_fibonacci(term)\n",
    "print(\"Fibonacci sequence up to term\", term, \":\", fibonacci_sequence)\n",
    "\n"
   ]
  },
  {
   "cell_type": "code",
   "execution_count": 3,
   "id": "9001e2b1-d752-4b49-a2cf-843885493096",
   "metadata": {},
   "outputs": [
    {
     "name": "stdin",
     "output_type": "stream",
     "text": [
      "Enter the year:  2023\n",
      "Enter the month (1-12):  11\n"
     ]
    },
    {
     "name": "stdout",
     "output_type": "stream",
     "text": [
      "\n",
      " Mo Tu We Th Fr Sa Su\n",
      "       1  2  3  4  5 \n",
      " 6  7  8  9 10 11 12 \n",
      "13 14 15 16 17 18 19 \n",
      "20 21 22 23 24 25 26 \n",
      "27 28 29 30          \n"
     ]
    }
   ],
   "source": [
    "#38. Create a program that generates a calendar for a given month and year using conditional statements.\n",
    "import calendar\n",
    "\n",
    "def generate_calendar(year, month):\n",
    "    cal = calendar.monthcalendar(year, month)\n",
    "    print(\"\\n Mo Tu We Th Fr Sa Su\")\n",
    "\n",
    "    for week in cal:\n",
    "        for day in week:\n",
    "            if day == 0:\n",
    "                print(\"   \", end=\"\")\n",
    "            else:\n",
    "                print(f\"{day:2} \", end=\"\")\n",
    "        print()\n",
    "\n",
    "# Get user input for the year and month\n",
    "year = int(input(\"Enter the year: \"))\n",
    "month = int(input(\"Enter the month (1-12): \"))\n",
    "\n",
    "# Check if the input is valid\n",
    "if 1 <= month <= 12:\n",
    "    # Generate and print the calendar\n",
    "    generate_calendar(year, month)\n",
    "else:\n",
    "    print(\"Invalid month. Please enter a number between 1 and 12.\")\n"
   ]
  },
  {
   "cell_type": "code",
   "execution_count": 5,
   "id": "1148b834-3b64-46a6-a658-1a82913a0c30",
   "metadata": {},
   "outputs": [
    {
     "name": "stdin",
     "output_type": "stream",
     "text": [
      "Type 'y' to get another card, 'n' to pass:  y\n"
     ]
    },
    {
     "name": "stdout",
     "output_type": "stream",
     "text": [
      "Your cards: [10, 9, 6], current score: 25\n",
      "Computer's first card: 5\n"
     ]
    },
    {
     "name": "stdin",
     "output_type": "stream",
     "text": [
      "Type 'y' to get another card, 'n' to pass:  y\n"
     ]
    },
    {
     "name": "stdout",
     "output_type": "stream",
     "text": [
      "Your cards: [10, 9, 6, 10], current score: 35\n",
      "Computer's first card: 5\n"
     ]
    },
    {
     "name": "stdin",
     "output_type": "stream",
     "text": [
      "Type 'y' to get another card, 'n' to pass:  y\n"
     ]
    },
    {
     "name": "stdout",
     "output_type": "stream",
     "text": [
      "Your cards: [10, 9, 6, 10, 10], current score: 45\n",
      "Computer's first card: 5\n"
     ]
    },
    {
     "name": "stdin",
     "output_type": "stream",
     "text": [
      "Type 'y' to get another card, 'n' to pass:  y\n"
     ]
    },
    {
     "name": "stdout",
     "output_type": "stream",
     "text": [
      "Your cards: [10, 9, 6, 10, 10, 3], current score: 48\n",
      "Computer's first card: 5\n"
     ]
    },
    {
     "name": "stdin",
     "output_type": "stream",
     "text": [
      "Type 'y' to get another card, 'n' to pass:  n\n"
     ]
    },
    {
     "name": "stdout",
     "output_type": "stream",
     "text": [
      "Your cards: [10, 9, 6, 10, 10, 3], current score: 48\n",
      "Computer's first card: 5\n",
      "Your final score: 48, Computer's final score: 23\n",
      "You win!\n"
     ]
    }
   ],
   "source": [
    "#39. Build a program that simulates a basic text-based blackjack game against the computer.\n",
    "import random\n",
    "\n",
    "def deal_card():\n",
    "    return random.choice([11, 2, 3, 4, 5, 6, 7, 8, 9, 10, 10, 10, 10])\n",
    "\n",
    "def calculate_score(cards):\n",
    "    if sum(cards) == 21 and len(cards) == 2:\n",
    "        return 0\n",
    "    if 11 in cards and sum(cards) > 21:\n",
    "        cards.remove(11)\n",
    "        cards.append(1)\n",
    "    return sum(cards)\n",
    "\n",
    "def play_game():\n",
    "    user_cards = [deal_card(), deal_card()]\n",
    "    computer_cards = [deal_card(), deal_card()]\n",
    "\n",
    "    def display_hands():\n",
    "        print(f\"Your cards: {user_cards}, current score: {calculate_score(user_cards)}\")\n",
    "        print(f\"Computer's first card: {computer_cards[0]}\")\n",
    "\n",
    "    while calculate_score(user_cards) != 0 and input(\"Type 'y' to get another card, 'n' to pass: \") == 'y':\n",
    "        user_cards.append(deal_card())\n",
    "        display_hands()\n",
    "\n",
    "    while calculate_score(computer_cards) < 17:\n",
    "        computer_cards.append(deal_card())\n",
    "\n",
    "    display_hands()\n",
    "\n",
    "    user_score, computer_score = calculate_score(user_cards), calculate_score(computer_cards)\n",
    "    print(f\"Your final score: {user_score}, Computer's final score: {computer_score}\")\n",
    "    print(\"You win!\" if user_score > computer_score or computer_score > 21 else \"You lose!\")\n",
    "\n",
    "# Start the game\n",
    "play_game()\n"
   ]
  },
  {
   "cell_type": "code",
   "execution_count": 6,
   "id": "c4d7c6f8-674b-458f-b2d6-3274b8753443",
   "metadata": {},
   "outputs": [
    {
     "name": "stdin",
     "output_type": "stream",
     "text": [
      "Enter a number to find its prime factors:  20\n"
     ]
    },
    {
     "name": "stdout",
     "output_type": "stream",
     "text": [
      "Prime factors of 20: [2, 2, 5]\n"
     ]
    }
   ],
   "source": [
    "#40. Write a program that generates the prime factors of a given number using trial division.\n",
    "def generate_prime_factors(number):\n",
    "    factors = []\n",
    "    divisor = 2\n",
    "\n",
    "    while divisor <= number:\n",
    "        if number % divisor == 0:\n",
    "            factors.append(divisor)\n",
    "            number //= divisor\n",
    "        else:\n",
    "            divisor += 1\n",
    "\n",
    "    return factors\n",
    "\n",
    "# Get user input for the number\n",
    "number = int(input(\"Enter a number to find its prime factors: \"))\n",
    "\n",
    "# Generate and print prime factors\n",
    "prime_factors = generate_prime_factors(number)\n",
    "print(f\"Prime factors of {number}: {prime_factors}\")\n"
   ]
  },
  {
   "cell_type": "code",
   "execution_count": null,
   "id": "0e90456a-9477-4636-8b1d-995b1aa02781",
   "metadata": {},
   "outputs": [],
   "source": []
  }
 ],
 "metadata": {
  "kernelspec": {
   "display_name": "Python 3 (ipykernel)",
   "language": "python",
   "name": "python3"
  },
  "language_info": {
   "codemirror_mode": {
    "name": "ipython",
    "version": 3
   },
   "file_extension": ".py",
   "mimetype": "text/x-python",
   "name": "python",
   "nbconvert_exporter": "python",
   "pygments_lexer": "ipython3",
   "version": "3.10.8"
  }
 },
 "nbformat": 4,
 "nbformat_minor": 5
}
